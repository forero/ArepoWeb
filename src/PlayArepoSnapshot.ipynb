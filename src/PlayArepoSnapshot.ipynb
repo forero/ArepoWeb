{
 "metadata": {
  "name": ""
 },
 "nbformat": 3,
 "nbformat_minor": 0,
 "worksheets": [
  {
   "cells": [
    {
     "cell_type": "code",
     "collapsed": false,
     "input": [
      "%pylab inline\n",
      "import h5py"
     ],
     "language": "python",
     "metadata": {},
     "outputs": [
      {
       "output_type": "stream",
       "stream": "stdout",
       "text": [
        "Populating the interactive namespace from numpy and matplotlib\n"
       ]
      }
     ],
     "prompt_number": 40
    },
    {
     "cell_type": "code",
     "collapsed": false,
     "input": [
      "fileName = \"../data/snap_135.9.hdf5\"\n",
      "fin = h5py.File(fileName,  \"r\")"
     ],
     "language": "python",
     "metadata": {},
     "outputs": [],
     "prompt_number": 41
    },
    {
     "cell_type": "code",
     "collapsed": false,
     "input": [
      "print fin.keys()"
     ],
     "language": "python",
     "metadata": {},
     "outputs": [
      {
       "output_type": "stream",
       "stream": "stdout",
       "text": [
        "[u'Header', u'PartType0', u'PartType1', u'PartType3', u'PartType4', u'PartType5']\n"
       ]
      }
     ],
     "prompt_number": 42
    },
    {
     "cell_type": "code",
     "collapsed": false,
     "input": [
      "print fin[\"Header\"].attrs.keys()\n",
      "print fin[\"Header\"].attrs[\"NumPart_ThisFile\"]\n",
      "print fin[\"Header\"].attrs[\"NumPart_Total\"]"
     ],
     "language": "python",
     "metadata": {},
     "outputs": [
      {
       "output_type": "stream",
       "stream": "stdout",
       "text": [
        "[u'NumPart_ThisFile', u'NumPart_Total', u'NumPart_Total_HighWord', u'MassTable', u'Time', u'Redshift', u'BoxSize', u'NumFilesPerSnapshot', u'Omega0', u'OmegaLambda', u'HubbleParam', u'Flag_Sfr', u'Flag_Cooling', u'Flag_StellarAge', u'Flag_Metals', u'Flag_Feedback', u'Flag_DoublePrecision', u'Composition_vector_length']\n",
        "[2741097 2876037       0 2876180  127937    1001]\n",
        "[87571556 94196375        0 94196375  4388167    33582]\n",
        "94196375\n"
       ]
      }
     ],
     "prompt_number": 90
    },
    {
     "cell_type": "code",
     "collapsed": false,
     "input": [
      "print fin[\"PartType0\"].keys()"
     ],
     "language": "python",
     "metadata": {},
     "outputs": [
      {
       "output_type": "stream",
       "stream": "stdout",
       "text": [
        "[u'Coordinates', u'Density', u'ElectronAbundance', u'GFM_AGNRadiation', u'GFM_CoolingRate', u'GFM_Metallicity', u'GFM_Metals', u'GFM_WindDMVelDisp', u'InternalEnergy', u'Masses', u'NeutralHydrogenAbundance', u'NumTracers', u'ParticleIDs', u'Potential', u'SmoothingLength', u'StarFormationRate', u'SubfindDensity', u'SubfindHsml', u'SubfindVelDisp', u'Velocities', u'Volume']\n"
       ]
      }
     ],
     "prompt_number": 77
    },
    {
     "cell_type": "code",
     "collapsed": false,
     "input": [
      "print fin[\"PartType1\"].keys()"
     ],
     "language": "python",
     "metadata": {},
     "outputs": [
      {
       "output_type": "stream",
       "stream": "stdout",
       "text": [
        "[u'Coordinates', u'ParticleIDs', u'Potential', u'SubfindDensity', u'SubfindHsml', u'SubfindVelDisp', u'Velocities']\n"
       ]
      }
     ],
     "prompt_number": 78
    },
    {
     "cell_type": "code",
     "collapsed": false,
     "input": [
      "print fin[\"PartType3\"].keys()"
     ],
     "language": "python",
     "metadata": {},
     "outputs": [
      {
       "output_type": "stream",
       "stream": "stdout",
       "text": [
        "[u'FluidQuantities', u'ParentID', u'TracerID']\n"
       ]
      }
     ],
     "prompt_number": 79
    },
    {
     "cell_type": "code",
     "collapsed": false,
     "input": [
      "print fin[\"PartType4\"].keys()"
     ],
     "language": "python",
     "metadata": {},
     "outputs": [
      {
       "output_type": "stream",
       "stream": "stdout",
       "text": [
        "[u'Coordinates', u'GFM_InitialMass', u'GFM_Metallicity', u'GFM_Metals', u'GFM_StellarFormationTime', u'GFM_StellarPhotometrics', u'Masses', u'NumTracers', u'ParticleIDs', u'Potential', u'SubfindDensity', u'SubfindHsml', u'SubfindVelDisp', u'Velocities']\n"
       ]
      }
     ],
     "prompt_number": 80
    },
    {
     "cell_type": "code",
     "collapsed": false,
     "input": [
      "print fin[\"PartType5\"].keys()"
     ],
     "language": "python",
     "metadata": {},
     "outputs": [
      {
       "output_type": "stream",
       "stream": "stdout",
       "text": [
        "[u'BH_CumEgyInjection_QM', u'BH_CumMassGrowth_QM', u'BH_Density', u'BH_Hsml', u'BH_Mass', u'BH_Mass_bubbles', u'BH_Mass_ini', u'BH_Mdot', u'BH_Pressure', u'BH_Progs', u'BH_U', u'Coordinates', u'HostHaloMass', u'Masses', u'NumTracers', u'ParticleIDs', u'Potential', u'SubfindDensity', u'SubfindHsml', u'SubfindVelDisp', u'Velocities']\n"
       ]
      }
     ],
     "prompt_number": 81
    },
    {
     "cell_type": "code",
     "collapsed": false,
     "input": [
      "fluid_quants = fin[\"PartType3\"][\"FluidQuantities\"][:,:]"
     ],
     "language": "python",
     "metadata": {},
     "outputs": [],
     "prompt_number": 63
    },
    {
     "cell_type": "code",
     "collapsed": false,
     "input": [
      "shape(fluid_quants)"
     ],
     "language": "python",
     "metadata": {},
     "outputs": [
      {
       "metadata": {},
       "output_type": "pyout",
       "prompt_number": 64,
       "text": [
        "(2876180, 13)"
       ]
      }
     ],
     "prompt_number": 64
    },
    {
     "cell_type": "code",
     "collapsed": false,
     "input": [
      "plot((fluid_quants[:,8]))"
     ],
     "language": "python",
     "metadata": {},
     "outputs": [
      {
       "metadata": {},
       "output_type": "pyout",
       "prompt_number": 74,
       "text": [
        "[<matplotlib.lines.Line2D at 0x10b5aecd0>]"
       ]
      },
      {
       "metadata": {},
       "output_type": "display_data",
       "png": "[encoded data removed]",
       "text": [
        "<matplotlib.figure.Figure at 0x10af1c9d0>"
       ]
      }
     ],
     "prompt_number": 74
    },
    {
     "cell_type": "code",
     "collapsed": false,
     "input": [
      "fluid_quants = fin[\"PartType1\"][\"Coordinates\"][:,:]"
     ],
     "language": "python",
     "metadata": {},
     "outputs": [],
     "prompt_number": 91
    },
    {
     "cell_type": "code",
     "collapsed": false,
     "input": [
      "shape(fluid_quants)"
     ],
     "language": "python",
     "metadata": {},
     "outputs": [
      {
       "metadata": {},
       "output_type": "pyout",
       "prompt_number": 92,
       "text": [
        "(2876037, 3)"
       ]
      }
     ],
     "prompt_number": 92
    },
    {
     "cell_type": "code",
     "collapsed": false,
     "input": [
      "scatter(fluid_quants[:100000,0], fluid_quants[:100000,1],s=0.1)"
     ],
     "language": "python",
     "metadata": {},
     "outputs": [
      {
       "metadata": {},
       "output_type": "pyout",
       "prompt_number": 99,
       "text": [
        "<matplotlib.collections.PathCollection at 0x11b783950>"
       ]
      },
      {
       "metadata": {},
       "output_type": "display_data",
       "png": "[encoded data removed]",
       "text": [
        "<matplotlib.figure.Figure at 0x14b008650>"
       ]
      }
     ],
     "prompt_number": 99
    },
    {
     "cell_type": "code",
     "collapsed": false,
     "input": [],
     "language": "python",
     "metadata": {},
     "outputs": []
    }
   ],
   "metadata": {}
  }
 ]
}