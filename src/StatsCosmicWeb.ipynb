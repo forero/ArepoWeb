{
 "metadata": {
  "name": ""
 },
 "nbformat": 3,
 "nbformat_minor": 0,
 "worksheets": [
  {
   "cells": [
    {
     "cell_type": "code",
     "collapsed": false,
     "input": [
      "%pylab inline"
     ],
     "language": "python",
     "metadata": {},
     "outputs": [
      {
       "output_type": "stream",
       "stream": "stdout",
       "text": [
        "Populating the interactive namespace from numpy and matplotlib\n"
       ]
      }
     ],
     "prompt_number": 1
    },
    {
     "cell_type": "code",
     "collapsed": false,
     "input": [
      "import readhaloHDF5\n",
      "import snapHDF5 as snap \n",
      "from scipy.interpolate import griddata\n",
      "from struct import *\n",
      "import h5py"
     ],
     "language": "python",
     "metadata": {},
     "outputs": [],
     "prompt_number": 2
    },
    {
     "cell_type": "code",
     "collapsed": false,
     "input": [
      "rcParams['figure.figsize'] = 8, 8"
     ],
     "language": "python",
     "metadata": {},
     "outputs": [],
     "prompt_number": 3
    },
    {
     "cell_type": "code",
     "collapsed": false,
     "input": [
      "def enlarge_labels(ax,nsize=25):\n",
      "    ticklabels_x = ax.get_xticklabels()\n",
      "    ticklabels_y = ax.get_yticklabels()\n",
      "\n",
      "    for label_x in ticklabels_x:\n",
      "        label_x.set_fontsize(nsize)\n",
      "        label_x.set_family('serif')\n",
      "    for label_y in ticklabels_y:\n",
      "        label_y.set_fontsize(nsize)\n",
      "        label_y.set_family('serif')"
     ],
     "language": "python",
     "metadata": {},
     "outputs": [],
     "prompt_number": 4
    },
    {
     "cell_type": "code",
     "collapsed": false,
     "input": [
      "def load_snap(path, snapnum, filenum):\n",
      "    filename=\"%s/snap_%d.%d\"%(path, snapnum, filenum)\n",
      "    position = snap.read_block(filename, \"POS \", parttype=0) #position\n",
      "    rho = snap.read_block(filename, \"RHO \", parttype=0) # density\n",
      "    volume = snap.read_block(filename, \"VOL \", parttype=0) # volume\n",
      "    return position, rho, volume"
     ],
     "language": "python",
     "metadata": {},
     "outputs": [],
     "prompt_number": 5
    },
    {
     "cell_type": "code",
     "collapsed": false,
     "input": [
      "def load_gas_web(path, snapnum, filenum):\n",
      "    filename=\"%s/gasweb_snap_%d.%d.hdf5\"%(path, snapnum, filenum)\n",
      "    fin = h5py.File(filename,  \"r\")\n",
      "    eigenvals = fin[\"ShearTensor\"][\"Eigenvalues\"]\n",
      "    eigenvecs = fin[\"ShearTensor\"][\"Eigenvectors\"]\n",
      "    helicity = fin[\"ShearTensor\"][\"Helicity\"]\n",
      "    vorticity = fin[\"ShearTensor\"][\"Vorticity\"]\n",
      "    return eigenvals, eigenvecs, helicity, vorticity"
     ],
     "language": "python",
     "metadata": {},
     "outputs": [],
     "prompt_number": 6
    },
    {
     "cell_type": "code",
     "collapsed": false,
     "input": [
      "def read_CIC_scalar(filename):\n",
      "    f = open(filename, \"rb\")\n",
      "    dumb = f.read(38)\n",
      "\n",
      "    dumb = f.read(4)\n",
      "    n_x = f.read(4)\n",
      "    n_y = f.read(4)\n",
      "    n_z = f.read(4)\n",
      "    nodes = f.read(4)\n",
      "    x0 = f.read(4)\n",
      "    y0 = f.read(4)\n",
      "    z0 = f.read(4)\n",
      "    dx = f.read(4)\n",
      "    dy = f.read(4)\n",
      "    dz = f.read(4)\n",
      "    dumb = f.read(4)\n",
      "\n",
      "    n_x = (unpack('i', n_x))[0]\n",
      "    n_y = (unpack('i', n_y))[0]\n",
      "    n_z = (unpack('i', n_z))[0]\n",
      "    nodes = (unpack('i', nodes))[0]\n",
      "    dx = (unpack('f', dx))[0]\n",
      "    dy = (unpack('f', dy))[0]\n",
      "    dz = (unpack('f', dz))[0]\n",
      "    x0 = (unpack('f', x0))[0]\n",
      "    y0 = (unpack('f', y0))[0]\n",
      "    z0 = (unpack('f', z0))[0]\n",
      "    print n_x, n_y, n_z, nodes, dx, dy, dz\n",
      "\n",
      "    total_nodes = n_x * n_y *n_z\n",
      "    dumb = f.read(4)\n",
      "    array_data = f.read(total_nodes*4)\n",
      "    dumb = f.read(4)\n",
      "    format_s = str(total_nodes)+'f'\n",
      "    array_data = unpack(format_s, array_data)\n",
      "    f.close()\n",
      "    array_data  = np.array(array_data)\n",
      "    array_data.resize(n_z,n_y,n_x)\n",
      "    array_data = array_data.transpose()\n",
      "    return array_data"
     ],
     "language": "python",
     "metadata": {},
     "outputs": [],
     "prompt_number": 7
    },
    {
     "cell_type": "code",
     "collapsed": false,
     "input": [
      "snapnum=136\n",
      "snap_data_path= \"/Users/forero/work/ArepoWeb/data/L75n455FP/snapdir_%d/\"%(snapnum)\n",
      "web_data_path= \"/Users/forero/work/ArepoWeb/data/L75n455FP/gasweb_%d/\"%(snapnum)\n",
      "\n",
      "pos_gas, rho_gas, vol_gas = load_snap(snap_data_path, snapnum, 0)\n",
      "eigenvalues_gas, eigenvectors_gas, helicity_gas, vorticity_gas = load_gas_web(web_data_path, snapnum, 0)\n",
      "\n",
      "center_slab = 40000.0\n",
      "delta_slab = 200.0\n",
      "\n",
      "index = where((pos_gas[:,2]>(center_slab - delta_slab*0.5))&(pos_gas[:,2]<(center_slab+delta_slab*0.5)))\n",
      "index = index[0]\n",
      "\n",
      "pos_gas = pos_gas[index,:]\n",
      "rho_gas = rho_gas[index,:]\n",
      "vol_gas = vol_gas[index,:]\n",
      "eigenvalues_gas = eigenvalues_gas[index,:]\n",
      "helicity_gas = helicity_gas[index,:]\n",
      "vorticity_gas = vorticity_gas[index,:]\n",
      "\n",
      "print size(index)\n",
      "\n",
      "for i in range(1,32):\n",
      "    print i\n",
      "    pos_gas_tmp, rho_gas_tmp, vol_gas_tmp = load_snap(snap_data_path, snapnum, i)\n",
      "    eigenvalues_gas_tmp, eigenvectors_gas_tmp, helicity_gas_tmp, vorticity_gas_tmp = \\\n",
      "        load_gas_web(web_data_path, snapnum, i)\n",
      "\n",
      "    index = where((pos_gas_tmp[:,2]>(center_slab - delta_slab*0.5))&\n",
      "                    (pos_gas_tmp[:,2]<(center_slab+delta_slab*0.5)))\n",
      "    index = index[0]\n",
      "    \n",
      "    pos_gas = append(pos_gas, pos_gas_tmp[index,:], axis=0)\n",
      "    rho_gas = append(rho_gas, rho_gas_tmp[index,:], axis=0)\n",
      "    vol_gas = append(vol_gas, vol_gas_tmp[index,:], axis=0)\n",
      "    eigenvalues_gas = append(eigenvalues_gas, eigenvalues_gas_tmp[index,:], axis=0)\n",
      "    eigenvectors_gas = append(eigenvectors_gas, eigenvectors_gas_tmp[index,:], axis=0)\n",
      "    helicity_gas = append(helicity_gas, helicity_gas_tmp[index,:], axis=0)\n",
      "    vorticity_gas = append(vorticity_gas, vorticity_gas_tmp[index,:], axis=0)\n",
      "    \n",
      "    print shape(eigenvalues_gas)\n"
     ],
     "language": "python",
     "metadata": {},
     "outputs": [
      {
       "output_type": "stream",
       "stream": "stdout",
       "text": [
        "16513\n",
        "1\n",
        "(19261, 3)"
       ]
      },
      {
       "output_type": "stream",
       "stream": "stdout",
       "text": [
        "\n",
        "2\n",
        "(30957, 3)"
       ]
      },
      {
       "output_type": "stream",
       "stream": "stdout",
       "text": [
        "\n",
        "3\n",
        "(32373, 3)"
       ]
      },
      {
       "output_type": "stream",
       "stream": "stdout",
       "text": [
        "\n",
        "4\n",
        "(39326, 3)"
       ]
      },
      {
       "output_type": "stream",
       "stream": "stdout",
       "text": [
        "\n",
        "5\n",
        "(50214, 3)"
       ]
      },
      {
       "output_type": "stream",
       "stream": "stdout",
       "text": [
        "\n",
        "6\n",
        "(58050, 3)"
       ]
      },
      {
       "output_type": "stream",
       "stream": "stdout",
       "text": [
        "\n",
        "7\n",
        "(68780, 3)"
       ]
      },
      {
       "output_type": "stream",
       "stream": "stdout",
       "text": [
        "\n",
        "8\n",
        "(73776, 3)"
       ]
      },
      {
       "output_type": "stream",
       "stream": "stdout",
       "text": [
        "\n",
        "9\n",
        "(79993, 3)"
       ]
      },
      {
       "output_type": "stream",
       "stream": "stdout",
       "text": [
        "\n",
        "10\n",
        "(89550, 3)"
       ]
      },
      {
       "output_type": "stream",
       "stream": "stdout",
       "text": [
        "\n",
        "11\n",
        "(93648, 3)"
       ]
      },
      {
       "output_type": "stream",
       "stream": "stdout",
       "text": [
        "\n",
        "12\n",
        "(101974, 3)"
       ]
      },
      {
       "output_type": "stream",
       "stream": "stdout",
       "text": [
        "\n",
        "13\n",
        "(108250, 3)"
       ]
      },
      {
       "output_type": "stream",
       "stream": "stdout",
       "text": [
        "\n",
        "14\n",
        "(116064, 3)"
       ]
      },
      {
       "output_type": "stream",
       "stream": "stdout",
       "text": [
        "\n",
        "15\n",
        "(126951, 3)"
       ]
      },
      {
       "output_type": "stream",
       "stream": "stdout",
       "text": [
        "\n",
        "16\n",
        "(133236, 3)"
       ]
      },
      {
       "output_type": "stream",
       "stream": "stdout",
       "text": [
        "\n",
        "17\n",
        "(144055, 3)"
       ]
      },
      {
       "output_type": "stream",
       "stream": "stdout",
       "text": [
        "\n",
        "18\n",
        "(148606, 3)"
       ]
      },
      {
       "output_type": "stream",
       "stream": "stdout",
       "text": [
        "\n",
        "19\n",
        "(156264, 3)"
       ]
      },
      {
       "output_type": "stream",
       "stream": "stdout",
       "text": [
        "\n",
        "20\n",
        "(172853, 3)"
       ]
      },
      {
       "output_type": "stream",
       "stream": "stdout",
       "text": [
        "\n",
        "21\n",
        "(188219, 3)"
       ]
      },
      {
       "output_type": "stream",
       "stream": "stdout",
       "text": [
        "\n",
        "22\n",
        "(197163, 3)"
       ]
      },
      {
       "output_type": "stream",
       "stream": "stdout",
       "text": [
        "\n",
        "23\n",
        "(201863, 3)"
       ]
      },
      {
       "output_type": "stream",
       "stream": "stdout",
       "text": [
        "\n",
        "24\n",
        "(207963, 3)"
       ]
      },
      {
       "output_type": "stream",
       "stream": "stdout",
       "text": [
        "\n",
        "25\n",
        "(216335, 3)"
       ]
      },
      {
       "output_type": "stream",
       "stream": "stdout",
       "text": [
        "\n",
        "26\n",
        "(227935, 3)"
       ]
      },
      {
       "output_type": "stream",
       "stream": "stdout",
       "text": [
        "\n",
        "27\n",
        "(234471, 3)"
       ]
      },
      {
       "output_type": "stream",
       "stream": "stdout",
       "text": [
        "\n",
        "28\n",
        "(241993, 3)"
       ]
      },
      {
       "output_type": "stream",
       "stream": "stdout",
       "text": [
        "\n",
        "29\n",
        "(250978, 3)"
       ]
      },
      {
       "output_type": "stream",
       "stream": "stdout",
       "text": [
        "\n",
        "30\n",
        "(255360, 3)"
       ]
      },
      {
       "output_type": "stream",
       "stream": "stdout",
       "text": [
        "\n",
        "31\n",
        "(264441, 3)"
       ]
      },
      {
       "output_type": "stream",
       "stream": "stdout",
       "text": [
        "\n"
       ]
      }
     ],
     "prompt_number": 11
    },
    {
     "cell_type": "code",
     "collapsed": false,
     "input": [
      "n_size = 128\n",
      "lambda_1 = read_CIC_scalar(\"../data/L75n455FP/Tweb/%d/snap_136.s1.00.eigen_1\"%(n_size))\n",
      "lambda_2 = read_CIC_scalar(\"../data/L75n455FP/Tweb/%d/snap_136.s1.00.eigen_2\"%(n_size))\n",
      "lambda_3 = read_CIC_scalar(\"../data/L75n455FP/Tweb/%d/snap_136.s1.00.eigen_3\"%(n_size))\n",
      "delta = lambda_1 + lambda_2 + lambda_3"
     ],
     "language": "python",
     "metadata": {},
     "outputs": [
      {
       "output_type": "stream",
       "stream": "stdout",
       "text": [
        "128 128 128 2097152 292.96875 585.9375 585.9375\n",
        "128"
       ]
      },
      {
       "output_type": "stream",
       "stream": "stdout",
       "text": [
        " 128 128 2097152 292.96875 585.9375 585.9375\n",
        "128"
       ]
      },
      {
       "output_type": "stream",
       "stream": "stdout",
       "text": [
        " 128 128 2097152 292.96875 585.9375 585.9375\n"
       ]
      }
     ],
     "prompt_number": 12
    },
    {
     "cell_type": "code",
     "collapsed": false,
     "input": [
      "VOID = 0\n",
      "FILAMENT = 1\n",
      "SHEET = 2\n",
      "PEAK = 3\n",
      "lambda_th_DM = 0.2\n",
      "environment = delta.copy()\n",
      "DM_peak_id = where(lambda_3>lambda_th_DM)\n",
      "environment[DM_peak_id] = PEAK\n",
      "DM_filament_id = where((lambda_2>lambda_th_DM) & (lambda_3<lambda_th_DM))\n",
      "environment[DM_filament_id] = FILAMENT\n",
      "DM_sheet_id = where((lambda_1>lambda_th_DM) & (lambda_2<lambda_th_DM))\n",
      "environment[DM_sheet_id] = SHEET\n",
      "DM_void_id = where(lambda_1<lambda_th_DM)\n",
      "environment[DM_void_id] = VOID"
     ],
     "language": "python",
     "metadata": {},
     "outputs": [],
     "prompt_number": 13
    },
    {
     "cell_type": "code",
     "collapsed": false,
     "input": [
      "lbox = 75000.0\n",
      "delta_box = lbox/n_size"
     ],
     "language": "python",
     "metadata": {},
     "outputs": [],
     "prompt_number": 14
    },
    {
     "cell_type": "code",
     "collapsed": false,
     "input": [
      "environment_gas = eigenvalues_gas[:,0].copy()\n",
      "PEAK = 3\n",
      "FILAMENT = 2\n",
      "SHEET = 1\n",
      "VOID =0\n",
      "lambda_th = 0.02 #the interesting values is 0.02\n",
      "\n",
      "peak_id = where(eigenvalues_gas[:,2]>lambda_th)\n",
      "peak_id = peak_id[0]\n",
      "filament_id = where((eigenvalues_gas[:,1]>lambda_th) & (eigenvalues_gas[:,2]<lambda_th))\n",
      "filament_id = filament_id[0]\n",
      "sheet_id = where((eigenvalues_gas[:,0]>lambda_th) & (eigenvalues_gas[:,1]<lambda_th))\n",
      "sheet_id = sheet_id[0]\n",
      "void_id = where(eigenvalues_gas[:,0]<lambda_th)\n",
      "void_id = void_id[0]\n",
      "environment_gas[peak_id] = PEAK\n",
      "environment_gas[filament_id] = FILAMENT\n",
      "environment_gas[sheet_id] = SHEET\n",
      "environment_gas[void_id] = VOID\n",
      "print size(sheet_id), size(peak_id), size(filament_id), size(void_id)\n",
      "print size(sheet_id) + size(peak_id) + size(filament_id) +size(void_id)"
     ],
     "language": "python",
     "metadata": {},
     "outputs": [
      {
       "output_type": "stream",
       "stream": "stdout",
       "text": [
        "129220 2838 80961 51422\n",
        "264441\n"
       ]
      }
     ],
     "prompt_number": 15
    },
    {
     "cell_type": "code",
     "collapsed": false,
     "input": [
      "density_gas_filament = rho_gas[filament_id]\n",
      "density_gas_sheet = rho_gas[sheet_id]\n",
      "density_gas_void = rho_gas[void_id]\n",
      "density_gas_peak = rho_gas[peak_id]\n",
      "\n",
      "volume_gas_filament = vol_gas[filament_id]\n",
      "volume_gas_void = vol_gas[sheet_id]\n",
      "volume_gas_void = vol_gas[void_id]\n",
      "volume_gas_peak = vol_gas[peak_id]\n",
      "total_volume = sum(volume_gas_peak) + sum(volume_gas_void) + sum(volume_gas_void) + sum(volume_gas_filament)\n",
      "\n",
      "print sum(volume_gas_peak)/total_volume\n",
      "print sum(volume_gas_filament)/total_volume\n",
      "print sum(volume_gas_sheet)/total_volume\n",
      "print sum(volume_gas_void)/total_volume\n",
      "\n",
      "\n",
      "\n",
      "\n",
      "a = hist(log10(density_gas_peak), bins=40, alpha=0.4, normed=0, color='green')\n",
      "#a = hist(log10(density_gas_filament), bins=40, alpha=0.4, normed=1)\n",
      "#a = hist(log10(density_gas_sheet), bins=40, alpha=0.4, normed=1)\n",
      "a = hist(log10(density_gas_void), bins=40, alpha=0.4, normed=0, color='red')\n",
      "a = hist(log10(density_gas_sheet), bins=40, alpha=0.4, normed=0, color='blue')"
     ],
     "language": "python",
     "metadata": {},
     "outputs": [
      {
       "output_type": "stream",
       "stream": "stdout",
       "text": [
        "0.00826527\n",
        "0.341423\n",
        "0.620792\n",
        "0.325156\n"
       ]
      },
      {
       "metadata": {},
       "output_type": "display_data",
       "png": "[encoded data removed]",
       "text": [
        "<matplotlib.figure.Figure at 0x1136bb090>"
       ]
      }
     ],
     "prompt_number": 66
    },
    {
     "cell_type": "code",
     "collapsed": false,
     "input": [
      "a = hist(log10(density_gas_filament), bins=40, alpha=0.4, normed=0, color='red')\n",
      "a = hist(log10(density_gas_sheet), bins=40, alpha=0.4, normed=0, color='blue')"
     ],
     "language": "python",
     "metadata": {},
     "outputs": [
      {
       "metadata": {},
       "output_type": "display_data",
       "png": "[encoded data removed]",
       "text": [
        "<matplotlib.figure.Figure at 0x10f468050>"
       ]
      }
     ],
     "prompt_number": 61
    },
    {
     "cell_type": "code",
     "collapsed": false,
     "input": [
      "mass_gas = rho_gas * vol_gas\n",
      "median_gas = median(mass_gas)\n",
      "print \"this is the density and lenght cut\", log10(median_gas/(200**3)), log10(200)\n",
      "a = hist(log10(vol_gas)/3.0, bins=40, alpha=0.4, normed=1)"
     ],
     "language": "python",
     "metadata": {},
     "outputs": [
      {
       "output_type": "stream",
       "stream": "stdout",
       "text": [
        "this is the density and lenght cut -9.14705226737 2.30102999566\n"
       ]
      },
      {
       "metadata": {},
       "output_type": "display_data",
       "png": "[encoded data removed]",
       "text": [
        "<matplotlib.figure.Figure at 0x113747cd0>"
       ]
      }
     ],
     "prompt_number": 18
    },
    {
     "cell_type": "code",
     "collapsed": false,
     "input": [
      "index_big_cell = where(vol_gas > 10.0**3)\n",
      "index_big_cell = index_big_cell[0]\n",
      "print size(vol_gas), size(index_big_cell)"
     ],
     "language": "python",
     "metadata": {},
     "outputs": [
      {
       "output_type": "stream",
       "stream": "stdout",
       "text": [
        "264441 246630\n"
       ]
      }
     ],
     "prompt_number": 29
    },
    {
     "cell_type": "code",
     "collapsed": false,
     "input": [
      "pos_big_cell_gas = pos_gas[index_big_cell,:]\n",
      "rho_big_cell_gas = rho_gas[index_big_cell]\n",
      "vol_big_cell_gas = vol_gas[index_big_cell]\n",
      "helicity_big_cell_gas = helicity_gas[index_big_cell,:]\n",
      "vorticity_big_cell_gas = vorticity_gas[index_big_cell,:]\n",
      "norm_vorticity_big_cell_gas = sqrt(vorticity_gas[index_big_cell,0]**2 +\\\n",
      "                                    vorticity_gas[index_big_cell,1]**2 +vorticity_gas[index_big_cell,2]**2 )\n",
      "environment_big_cell_gas = environment_gas[index_big_cell]"
     ],
     "language": "python",
     "metadata": {},
     "outputs": [],
     "prompt_number": 30
    },
    {
     "cell_type": "code",
     "collapsed": false,
     "input": [
      "filament_id = where(environment_big_cell_gas==FILAMENT)\n",
      "filament_id = filament_id[0]\n",
      "void_id = where(environment_big_cell_gas==VOID)\n",
      "void_id = void_id[0]\n",
      "peak_id = where(environment_big_cell_gas==PEAK)\n",
      "peak_id = peak_id[0]\n",
      "sheet_id = where(environment_big_cell_gas==SHEET)\n",
      "sheet_id = sheet_id[0]\n",
      "\n",
      "density_big_cell_gas_filament = rho_big_cell_gas[filament_id]\n",
      "density_big_cell_gas_void = rho_big_cell_gas[void_id]\n",
      "density_big_cell_gas_peak = rho_big_cell_gas[peak_id]\n",
      "density_big_cell_gas_sheet = rho_big_cell_gas[sheet_id]\n",
      "\n",
      "\n",
      "#density_gas_filament = rho_gas[filament_id]\n",
      "#density_gas_sheet = rho_gas[sheet_id]\n",
      "#density_gas_void = rho_gas[void_id]\n",
      "#density_gas_peak = rho_gas[peak_id]\n",
      "\n",
      "\n",
      "#a = hist(log10(density_gas_peak), bins=40, alpha=0.4, normed=1)\n",
      "a = hist(log10(density_gas_filament), bins=40, alpha=0.4, normed=1)\n",
      "a = hist(log10(density_big_cell_gas_filament), bins=40, alpha=0.4, normed=1)\n",
      "\n",
      "#a = hist(log10(density_gas_sheet), bins=40, alpha=0.4, normed=1)\n",
      "#a = hist(log10(density_gas_void), bins=40, alpha=0.4, normed=1)"
     ],
     "language": "python",
     "metadata": {},
     "outputs": [
      {
       "metadata": {},
       "output_type": "display_data",
       "png": "[encoded data removed]",
       "text": [
        "<matplotlib.figure.Figure at 0x10f440210>"
       ]
      }
     ],
     "prompt_number": 31
    },
    {
     "cell_type": "code",
     "collapsed": false,
     "input": [
      "#a = hist(log10(density_gas_void), bins=40, alpha=0.4, normed=1)\n",
      "a = hist(log10(density_big_cell_gas_void), bins=20, alpha=0.4, normed=1, color='blue')\n",
      "a = hist(log10(density_big_cell_gas_peak), bins=20, alpha=0.4, normed=1, color='green')"
     ],
     "language": "python",
     "metadata": {},
     "outputs": [
      {
       "metadata": {},
       "output_type": "display_data",
       "png": "[encoded data removed]",
       "text": [
        "<matplotlib.figure.Figure at 0x113726350>"
       ]
      }
     ],
     "prompt_number": 32
    },
    {
     "cell_type": "code",
     "collapsed": false,
     "input": [
      "a = hist(log10(density_big_cell_gas_sheet), bins=20, alpha=0.4, normed=0, color='red')\n",
      "a = hist(log10(density_big_cell_gas_filament), bins=20, alpha=0.4, normed=0, color='blue')\n",
      "a = hist(log10(density_big_cell_gas_void), bins=20, alpha=0.4, normed=0, color='green')"
     ],
     "language": "python",
     "metadata": {},
     "outputs": [
      {
       "metadata": {},
       "output_type": "display_data",
       "png": "[encoded data removed]",
       "text": [
        "<matplotlib.figure.Figure at 0x11374aa10>"
       ]
      }
     ],
     "prompt_number": 33
    },
    {
     "cell_type": "code",
     "collapsed": false,
     "input": [
      "print delta_box\n",
      "print sum(vol_big_cell_gas)/sum(vol_gas)"
     ],
     "language": "python",
     "metadata": {},
     "outputs": [
      {
       "output_type": "stream",
       "stream": "stdout",
       "text": [
        "585.9375\n",
        "1.0\n"
       ]
      }
     ],
     "prompt_number": 34
    },
    {
     "cell_type": "code",
     "collapsed": false,
     "input": [
      "DM_environment_big_cell_gas = rho_big_cell_gas.copy()\n",
      "n_point_gas = size(rho_big_cell_gas)\n",
      "print n_point_gas\n",
      "for idgas in arange(n_point_gas):\n",
      "    dm_i = int(pos_big_cell_gas[idgas,0]/delta_box)\n",
      "    dm_j = int(pos_big_cell_gas[idgas,1]/delta_box)\n",
      "    dm_k = int(pos_big_cell_gas[idgas,2]/delta_box)\n",
      "    DM_environment_big_cell_gas[idgas] = environment[dm_i, dm_j, dm_k]"
     ],
     "language": "python",
     "metadata": {},
     "outputs": [
      {
       "output_type": "stream",
       "stream": "stdout",
       "text": [
        "246630\n"
       ]
      }
     ],
     "prompt_number": 35
    },
    {
     "cell_type": "code",
     "collapsed": false,
     "input": [
      "in_DM_void_index = where(DM_environment_big_cell_gas==VOID)\n",
      "in_DM_void_index = in_DM_void_index[0]\n",
      "in_DM_sheet_index = where(DM_environment_big_cell_gas==SHEET)\n",
      "in_DM_sheet_index = in_DM_sheet_index[0]\n",
      "in_DM_filament_index = where(DM_environment_big_cell_gas==FILAMENT)\n",
      "in_DM_filament_index = in_DM_filament_index[0]\n",
      "in_DM_peak_index = where(DM_environment_big_cell_gas==PEAK)\n",
      "in_DM_peak_index = in_DM_peak_index[0]"
     ],
     "language": "python",
     "metadata": {},
     "outputs": [],
     "prompt_number": 36
    },
    {
     "cell_type": "code",
     "collapsed": false,
     "input": [
      "a = hist(log10(rho_big_cell_gas[in_DM_void_index]), bins=20, alpha=0.4, normed=0, color='red')\n",
      "a = hist(log10(rho_big_cell_gas[in_DM_sheet_index]), bins=20, alpha=0.4, normed=0, color='green')\n",
      "a = hist(log10(rho_big_cell_gas[in_DM_filament_index]), bins=20, alpha=0.4, normed=0, color='blue')\n",
      "a = hist(log10(rho_big_cell_gas[in_DM_peak_index]), bins=20, alpha=0.4, normed=0, color='silver')\n"
     ],
     "language": "python",
     "metadata": {},
     "outputs": [
      {
       "metadata": {},
       "output_type": "display_data",
       "png": "[encoded data removed]",
       "text": [
        "<matplotlib.figure.Figure at 0x1136ebd10>"
       ]
      }
     ],
     "prompt_number": 37
    },
    {
     "cell_type": "code",
     "collapsed": false,
     "input": [
      "a = hist(log10(abs(helicity_big_cell_gas[in_DM_void_index])+1E-4), bins=20, alpha=0.4, normed=0, color='red')\n",
      "a = hist(log10(abs(helicity_big_cell_gas[in_DM_sheet_index])+1E-2), bins=20, alpha=0.4, normed=0, color='green')\n",
      "a = hist(log10(abs(helicity_big_cell_gas[in_DM_filament_index])+1E-2), bins=20, alpha=0.4, normed=0, color='blue')"
     ],
     "language": "python",
     "metadata": {},
     "outputs": [
      {
       "metadata": {},
       "output_type": "display_data",
       "png": "[encoded data removed]",
       "text": [
        "<matplotlib.figure.Figure at 0x1135eaf90>"
       ]
      }
     ],
     "prompt_number": 42
    },
    {
     "cell_type": "code",
     "collapsed": false,
     "input": [
      "a = hist(log10(abs(norm_vorticity_big_cell_gas[in_DM_void_index])+1E-5), bins=20, alpha=0.4, normed=0, color='red')\n",
      "#a = hist(log10(abs(norm_vorticity_big_cell_gas[in_DM_sheet_index])+1E-5), bins=20, alpha=0.4, normed=0, color='green')\n",
      "a = hist(log10(abs(norm_vorticity_big_cell_gas[in_DM_filament_index])+1E-5), bins=20, alpha=0.4, normed=0, color='blue')\n",
      "#a = hist(log10(abs(norm_vorticity_big_cell_gas[in_DM_peak_index])+1E-5), bins=20, alpha=0.4, normed=0, color='silver')\n",
      "\n",
      "#a = hist(log10(abs(helicity_big_cell_gas[in_DM_filament_index])+1E-2), bins=20, alpha=0.4, normed=0, color='blue')"
     ],
     "language": "python",
     "metadata": {},
     "outputs": [
      {
       "metadata": {},
       "output_type": "display_data",
       "png": "[encoded data removed]",
       "text": [
        "<matplotlib.figure.Figure at 0x10f966810>"
       ]
      }
     ],
     "prompt_number": 44
    },
    {
     "cell_type": "code",
     "collapsed": false,
     "input": [
      "a = hist(log10(abs(norm_vorticity_big_cell_gas[void_id])+1E-5), bins=20, alpha=0.4, normed=0, color='red')\n",
      "#a = hist(log10(abs(norm_vorticity_big_cell_gas[in_DM_sheet_index])+1E-5), bins=20, alpha=0.4, normed=0, color='green')\n",
      "a = hist(log10(abs(norm_vorticity_big_cell_gas[filament_id])+1E-5), bins=20, alpha=0.4, normed=0, color='blue')\n",
      "#a = hist(log10(abs(norm_vorticity_big_cell_gas[in_DM_peak_index])+1E-5), bins=20, alpha=0.4, normed=0, color='silver'"
     ],
     "language": "python",
     "metadata": {},
     "outputs": [
      {
       "metadata": {},
       "output_type": "display_data",
       "png": "[encoded data removed]",
       "text": [
        "<matplotlib.figure.Figure at 0x113653e90>"
       ]
      }
     ],
     "prompt_number": 47
    },
    {
     "cell_type": "code",
     "collapsed": false,
     "input": [
      "print log10(abs(helicity_big_cell_gas[in_DM_sheet_index]))"
     ],
     "language": "python",
     "metadata": {},
     "outputs": [
      {
       "output_type": "stream",
       "stream": "stdout",
       "text": [
        "[[ 2.48350692]\n",
        " [ 2.45738721]\n",
        " [ 1.7987169 ]\n",
        " ..., \n",
        " [ 2.36295414]\n",
        " [ 2.0574708 ]\n",
        " [ 2.3084712 ]]\n"
       ]
      }
     ],
     "prompt_number": 48
    },
    {
     "cell_type": "code",
     "collapsed": false,
     "input": [
      "n=hist2d(log10(abs(helicity_big_cell_gas[:,0])+1E-2), log10(rho_big_cell_gas), bins=100)"
     ],
     "language": "python",
     "metadata": {},
     "outputs": [
      {
       "metadata": {},
       "output_type": "display_data",
       "png": "[encoded data removed]",
       "text": [
        "<matplotlib.figure.Figure at 0x11360fe10>"
       ]
      }
     ],
     "prompt_number": 49
    },
    {
     "cell_type": "code",
     "collapsed": false,
     "input": [
      "n=hist2d(log10(abs(helicity_big_cell_gas[:,0])+1E-2), log10(norm_vorticity_big_cell_gas+1E-5), bins=100)"
     ],
     "language": "python",
     "metadata": {},
     "outputs": [
      {
       "metadata": {},
       "output_type": "display_data",
       "png": "[encoded data removed]",
       "text": [
        "<matplotlib.figure.Figure at 0x113629950>"
       ]
      }
     ],
     "prompt_number": 51
    },
    {
     "cell_type": "code",
     "collapsed": false,
     "input": [
      "n=hist2d(log10(abs(helicity_big_cell_gas[filament_id,0])+1E-2), log10(norm_vorticity_big_cell_gas[filament_id]), bins=100)"
     ],
     "language": "python",
     "metadata": {},
     "outputs": [
      {
       "metadata": {},
       "output_type": "display_data",
       "png": "[encoded data removed]",
       "text": [
        "<matplotlib.figure.Figure at 0x1136ce090>"
       ]
      }
     ],
     "prompt_number": 52
    },
    {
     "cell_type": "code",
     "collapsed": false,
     "input": [
      "#finding the DM environment for the gas cells flagged as voids\n",
      "index_gas_void_DM_void= where(DM_environment_big_cell_gas[void_id]==VOID)\n",
      "index_gas_void_DM_sheet = where(DM_environment_big_cell_gas[void_id]==SHEET)\n",
      "index_gas_void_DM_filament = where(DM_environment_big_cell_gas[void_id]==FILAMENT)\n",
      "index_gas_void_DM_peak = where(DM_environment_big_cell_gas[void_id]==PEAK)\n",
      "\n",
      "total_c = 1.0*size(DM_environment_big_cell_gas[void_id])\n",
      "print size(index_gas_void_DM_void)/total_c\n",
      "print size(index_gas_void_DM_sheet)/total_c\n",
      "print size(index_gas_void_DM_filament)/total_c\n",
      "print size(index_gas_void_DM_peak)/total_c\n"
     ],
     "language": "python",
     "metadata": {},
     "outputs": [
      {
       "output_type": "stream",
       "stream": "stdout",
       "text": [
        "0.219962850719\n",
        "0.317313520383\n",
        "0.44184182227\n",
        "0.0208818066282\n"
       ]
      }
     ],
     "prompt_number": 53
    },
    {
     "cell_type": "code",
     "collapsed": false,
     "input": [
      "#finding the DM environment for the gas cells flagged as sheet\n",
      "index_gas_sheet_DM_void= where(DM_environment_big_cell_gas[sheet_id]==VOID)\n",
      "index_gas_sheet_DM_sheet = where(DM_environment_big_cell_gas[sheet_id]==SHEET)\n",
      "index_gas_sheet_DM_filament = where(DM_environment_big_cell_gas[sheet_id]==FILAMENT)\n",
      "index_gas_sheet_DM_peak = where(DM_environment_big_cell_gas[sheet_id]==PEAK)\n",
      "\n",
      "total_c = 1.0*size(DM_environment_big_cell_gas[sheet_id])\n",
      "print size(index_gas_sheet_DM_void)/total_c\n",
      "print size(index_gas_sheet_DM_sheet)/total_c\n",
      "print size(index_gas_sheet_DM_filament)/total_c\n",
      "print size(index_gas_sheet_DM_peak)/total_c"
     ],
     "language": "python",
     "metadata": {},
     "outputs": [
      {
       "output_type": "stream",
       "stream": "stdout",
       "text": [
        "0.0108765458528\n",
        "0.666647455004\n",
        "0.25694501622\n",
        "0.0655309829236\n"
       ]
      }
     ],
     "prompt_number": 54
    },
    {
     "cell_type": "code",
     "collapsed": false,
     "input": [
      "#finding the DM environment for the gas cells flagged as filament\n",
      "index_gas_filament_DM_void= where(DM_environment_big_cell_gas[filament_id]==VOID)\n",
      "index_gas_filament_DM_sheet = where(DM_environment_big_cell_gas[filament_id]==SHEET)\n",
      "index_gas_filament_DM_filament = where(DM_environment_big_cell_gas[filament_id]==FILAMENT)\n",
      "index_gas_filament_DM_peak = where(DM_environment_big_cell_gas[filament_id]==PEAK)\n",
      "total_c = 1.0*size(DM_environment_big_cell_gas[filament_id])\n",
      "\n",
      "print size(index_gas_filament_DM_void)/total_c\n",
      "print size(index_gas_filament_DM_sheet)/total_c\n",
      "print size(index_gas_filament_DM_filament)/total_c\n",
      "print size(index_gas_filament_DM_peak)/total_c"
     ],
     "language": "python",
     "metadata": {},
     "outputs": [
      {
       "output_type": "stream",
       "stream": "stdout",
       "text": [
        "0.00364695278375\n",
        "0.726866809956\n",
        "0.185495389309\n",
        "0.0839908479512\n"
       ]
      }
     ],
     "prompt_number": 55
    },
    {
     "cell_type": "code",
     "collapsed": false,
     "input": [
      "#finding the DM environment for the gas cells flagged as peak\n",
      "index_gas_peak_DM_void= where(DM_environment_big_cell_gas[peak_id]==VOID)\n",
      "index_gas_peak_DM_sheet = where(DM_environment_big_cell_gas[peak_id]==SHEET)\n",
      "index_gas_peak_DM_filament = where(DM_environment_big_cell_gas[peak_id]==FILAMENT)\n",
      "index_gas_peak_DM_peak = where(DM_environment_big_cell_gas[peak_id]==PEAK)\n",
      "total_c = 1.0*size(DM_environment_big_cell_gas[peak_id])\n",
      "\n",
      "print size(index_gas_peak_DM_void)/total_c\n",
      "print size(index_gas_peak_DM_sheet)/total_c\n",
      "print size(index_gas_peak_DM_filament)/total_c\n",
      "print size(index_gas_peak_DM_peak)/total_c"
     ],
     "language": "python",
     "metadata": {},
     "outputs": [
      {
       "output_type": "stream",
       "stream": "stdout",
       "text": [
        "0.000521920668058\n",
        "0.749478079332\n",
        "0.128392484342\n",
        "0.121607515658\n"
       ]
      }
     ],
     "prompt_number": 56
    },
    {
     "cell_type": "code",
     "collapsed": false,
     "input": [],
     "language": "python",
     "metadata": {},
     "outputs": [],
     "prompt_number": 257
    },
    {
     "cell_type": "code",
     "collapsed": false,
     "input": [],
     "language": "python",
     "metadata": {},
     "outputs": []
    }
   ],
   "metadata": {}
  }
 ]
}